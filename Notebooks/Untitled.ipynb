{
 "cells": [
  {
   "cell_type": "markdown",
   "metadata": {},
   "source": [
    "## Linear regression python "
   ]
  },
  {
   "cell_type": "markdown",
   "metadata": {},
   "source": [
    "Linear Regression with two variables in one dimensional data"
   ]
  },
  {
   "cell_type": "code",
   "execution_count": 33,
   "metadata": {},
   "outputs": [],
   "source": [
    "import numpy as np\n",
    "import random"
   ]
  },
  {
   "cell_type": "code",
   "execution_count": 34,
   "metadata": {},
   "outputs": [],
   "source": [
    "n=10\n",
    "x=np.arange(0,10,0.1)\n",
    "y=3*x+2\n",
    "n=x.shape[0]\n",
    "max_itr=1000\n",
    "alpha=0.0001"
   ]
  },
  {
   "cell_type": "code",
   "execution_count": 35,
   "metadata": {},
   "outputs": [],
   "source": [
    "# F(x)= t[0]*x + t[1]\n",
    "def F(x, t):\n",
    "    return x*t[0]+t[1]\n",
    "\n",
    "def cost(y_est, y):\n",
    "    E=y_est-y\n",
    "    return E, np.linalg.norm(E,2)\n",
    "\n",
    "def gradient(E,x):\n",
    "    return np.array([2* np.matmul(E.T,x), 2*np.sum(E)])"
   ]
  },
  {
   "cell_type": "code",
   "execution_count": null,
   "metadata": {},
   "outputs": [],
   "source": [
    "# initialize the variables\n",
    "t=np.random.random(2)"
   ]
  },
  {
   "cell_type": "code",
   "execution_count": null,
   "metadata": {},
   "outputs": [],
   "source": [
    "def fit(t, x, y, alpha, max_itr):\n",
    "    for i in range(max_itr):\n",
    "        print(t)\n",
    "        y_est=F(x,t)\n",
    "        E, c= cost(y_est, y)\n",
    "        tg=gradient(E,x)\n",
    "        t=t - alpha * tg\n",
    "        \n",
    "    return t"
   ]
  },
  {
   "cell_type": "code",
   "execution_count": null,
   "metadata": {},
   "outputs": [],
   "source": [
    "fit(t, x, y, alpha, max_itr)"
   ]
  },
  {
   "cell_type": "code",
   "execution_count": null,
   "metadata": {},
   "outputs": [],
   "source": []
  }
 ],
 "metadata": {
  "kernelspec": {
   "display_name": "Python 3",
   "language": "python",
   "name": "python3"
  },
  "language_info": {
   "codemirror_mode": {
    "name": "ipython",
    "version": 3
   },
   "file_extension": ".py",
   "mimetype": "text/x-python",
   "name": "python",
   "nbconvert_exporter": "python",
   "pygments_lexer": "ipython3",
   "version": "3.5.6"
  }
 },
 "nbformat": 4,
 "nbformat_minor": 4
}
